{
  "cells": [
    {
      "cell_type": "markdown",
      "source": [
        "This tutorial has been moved to a new location. Visit https://www.geopythontutorials.com/notebooks/dask_median_composite.html"
      ],
      "metadata": {
        "id": "SEmR4puHAibg"
      },
      "id": "SEmR4puHAibg"
    }
  ],
  "metadata": {
    "colab": {
      "provenance": []
    },
    "kernelspec": {
      "display_name": "Python 3 (ipykernel)",
      "language": "python",
      "name": "python3"
    },
    "language_info": {
      "codemirror_mode": {
        "name": "ipython",
        "version": 3
      },
      "file_extension": ".py",
      "mimetype": "text/x-python",
      "name": "python",
      "nbconvert_exporter": "python",
      "pygments_lexer": "ipython3",
      "version": "3.12.3"
    }
  },
  "nbformat": 4,
  "nbformat_minor": 5
}