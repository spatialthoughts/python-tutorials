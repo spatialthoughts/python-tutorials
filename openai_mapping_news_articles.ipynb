{
  "nbformat": 4,
  "nbformat_minor": 0,
  "metadata": {
    "colab": {
      "provenance": [],
      "authorship_tag": "ABX9TyOPfbNTg3bCcOymuCF09vCZ"
    },
    "kernelspec": {
      "name": "python3",
      "display_name": "Python 3"
    },
    "language_info": {
      "name": "python"
    }
  },
  "cells": [
    {
      "cell_type": "markdown",
      "source": [
        "This tutorial has been moved to a new location. Visit https://www.geopythontutorials.com/notebooks/openai_mapping_news_articles.html"
      ],
      "metadata": {
        "id": "XKNjWKE5BjFL"
      }
    }
  ]
}